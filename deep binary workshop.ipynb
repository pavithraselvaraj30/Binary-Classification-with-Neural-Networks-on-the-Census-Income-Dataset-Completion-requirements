{
 "cells": [
  {
   "cell_type": "markdown",
   "id": "65cd4c0a",
   "metadata": {},
   "source": [
    "## Workshop: Binary Classification with Neural Networks on the Census Income Dataset\n",
    "\n",
    "## Name: PAVITHRA S\n",
    "## Reg no: 212223230147"
   ]
  },
  {
   "cell_type": "code",
   "execution_count": 1,
   "id": "a3523729",
   "metadata": {},
   "outputs": [],
   "source": [
    "import torch\n",
    "import torch.nn as nn\n",
    "\n",
    "import numpy as np\n",
    "import pandas as pd\n",
    "import matplotlib.pyplot as plt\n",
    "from sklearn.utils import shuffle\n",
    "%matplotlib inline\n",
    "\n",
    "df = pd.read_csv('income.csv')"
   ]
  },
  {
   "cell_type": "code",
   "execution_count": 2,
   "id": "fe744a67-b3bc-4f5c-b851-1cf22171c961",
   "metadata": {},
   "outputs": [
    {
     "name": "stdout",
     "output_type": "stream",
     "text": [
      "31978\n"
     ]
    },
    {
     "data": {
      "text/html": [
       "<div>\n",
       "<style scoped>\n",
       "    .dataframe tbody tr th:only-of-type {\n",
       "        vertical-align: middle;\n",
       "    }\n",
       "\n",
       "    .dataframe tbody tr th {\n",
       "        vertical-align: top;\n",
       "    }\n",
       "\n",
       "    .dataframe thead th {\n",
       "        text-align: right;\n",
       "    }\n",
       "</style>\n",
       "<table border=\"1\" class=\"dataframe\">\n",
       "  <thead>\n",
       "    <tr style=\"text-align: right;\">\n",
       "      <th></th>\n",
       "      <th>age</th>\n",
       "      <th>JobType</th>\n",
       "      <th>EdType</th>\n",
       "      <th>maritalstatus</th>\n",
       "      <th>occupation</th>\n",
       "      <th>relationship</th>\n",
       "      <th>race</th>\n",
       "      <th>gender</th>\n",
       "      <th>capitalgain</th>\n",
       "      <th>capitalloss</th>\n",
       "      <th>hoursperweek</th>\n",
       "      <th>nativecountry</th>\n",
       "      <th>SalStat</th>\n",
       "    </tr>\n",
       "  </thead>\n",
       "  <tbody>\n",
       "    <tr>\n",
       "      <th>0</th>\n",
       "      <td>45</td>\n",
       "      <td>Private</td>\n",
       "      <td>HS-grad</td>\n",
       "      <td>Divorced</td>\n",
       "      <td>Adm-clerical</td>\n",
       "      <td>Not-in-family</td>\n",
       "      <td>White</td>\n",
       "      <td>Female</td>\n",
       "      <td>0</td>\n",
       "      <td>0</td>\n",
       "      <td>28</td>\n",
       "      <td>United-States</td>\n",
       "      <td>less than or equal to 50,000</td>\n",
       "    </tr>\n",
       "    <tr>\n",
       "      <th>1</th>\n",
       "      <td>24</td>\n",
       "      <td>Federal-gov</td>\n",
       "      <td>HS-grad</td>\n",
       "      <td>Never-married</td>\n",
       "      <td>Armed-Forces</td>\n",
       "      <td>Own-child</td>\n",
       "      <td>White</td>\n",
       "      <td>Male</td>\n",
       "      <td>0</td>\n",
       "      <td>0</td>\n",
       "      <td>40</td>\n",
       "      <td>United-States</td>\n",
       "      <td>less than or equal to 50,000</td>\n",
       "    </tr>\n",
       "    <tr>\n",
       "      <th>2</th>\n",
       "      <td>44</td>\n",
       "      <td>Private</td>\n",
       "      <td>Some-college</td>\n",
       "      <td>Married-civ-spouse</td>\n",
       "      <td>Prof-specialty</td>\n",
       "      <td>Husband</td>\n",
       "      <td>White</td>\n",
       "      <td>Male</td>\n",
       "      <td>0</td>\n",
       "      <td>0</td>\n",
       "      <td>40</td>\n",
       "      <td>United-States</td>\n",
       "      <td>greater than 50,000</td>\n",
       "    </tr>\n",
       "    <tr>\n",
       "      <th>3</th>\n",
       "      <td>27</td>\n",
       "      <td>Private</td>\n",
       "      <td>9th</td>\n",
       "      <td>Never-married</td>\n",
       "      <td>Craft-repair</td>\n",
       "      <td>Other-relative</td>\n",
       "      <td>White</td>\n",
       "      <td>Male</td>\n",
       "      <td>0</td>\n",
       "      <td>0</td>\n",
       "      <td>40</td>\n",
       "      <td>Mexico</td>\n",
       "      <td>less than or equal to 50,000</td>\n",
       "    </tr>\n",
       "    <tr>\n",
       "      <th>4</th>\n",
       "      <td>20</td>\n",
       "      <td>Private</td>\n",
       "      <td>Some-college</td>\n",
       "      <td>Never-married</td>\n",
       "      <td>Sales</td>\n",
       "      <td>Not-in-family</td>\n",
       "      <td>White</td>\n",
       "      <td>Male</td>\n",
       "      <td>0</td>\n",
       "      <td>0</td>\n",
       "      <td>35</td>\n",
       "      <td>United-States</td>\n",
       "      <td>less than or equal to 50,000</td>\n",
       "    </tr>\n",
       "  </tbody>\n",
       "</table>\n",
       "</div>"
      ],
      "text/plain": [
       "   age       JobType         EdType        maritalstatus       occupation  \\\n",
       "0   45       Private        HS-grad             Divorced     Adm-clerical   \n",
       "1   24   Federal-gov        HS-grad        Never-married     Armed-Forces   \n",
       "2   44       Private   Some-college   Married-civ-spouse   Prof-specialty   \n",
       "3   27       Private            9th        Never-married     Craft-repair   \n",
       "4   20       Private   Some-college        Never-married            Sales   \n",
       "\n",
       "      relationship    race   gender  capitalgain  capitalloss  hoursperweek  \\\n",
       "0    Not-in-family   White   Female            0            0            28   \n",
       "1        Own-child   White     Male            0            0            40   \n",
       "2          Husband   White     Male            0            0            40   \n",
       "3   Other-relative   White     Male            0            0            40   \n",
       "4    Not-in-family   White     Male            0            0            35   \n",
       "\n",
       "    nativecountry                        SalStat  \n",
       "0   United-States   less than or equal to 50,000  \n",
       "1   United-States   less than or equal to 50,000  \n",
       "2   United-States            greater than 50,000  \n",
       "3          Mexico   less than or equal to 50,000  \n",
       "4   United-States   less than or equal to 50,000  "
      ]
     },
     "execution_count": 2,
     "metadata": {},
     "output_type": "execute_result"
    }
   ],
   "source": [
    "print(len(df))\n",
    "df.head()"
   ]
  },
  {
   "cell_type": "code",
   "execution_count": 3,
   "id": "46525739-7358-4a01-8e53-efb50a8552dd",
   "metadata": {},
   "outputs": [
    {
     "data": {
      "text/plain": [
       "age\n",
       "36    875\n",
       "23    871\n",
       "31    870\n",
       "33    862\n",
       "34    862\n",
       "     ... \n",
       "83      6\n",
       "88      3\n",
       "85      3\n",
       "86      1\n",
       "87      1\n",
       "Name: count, Length: 73, dtype: int64"
      ]
     },
     "execution_count": 3,
     "metadata": {},
     "output_type": "execute_result"
    }
   ],
   "source": [
    "df['age'].value_counts()"
   ]
  },
  {
   "cell_type": "code",
   "execution_count": 4,
   "id": "7c9d9177-51f3-4001-b029-ad2d1933856d",
   "metadata": {},
   "outputs": [
    {
     "data": {
      "text/plain": [
       "Index(['age', 'JobType', 'EdType', 'maritalstatus', 'occupation',\n",
       "       'relationship', 'race', 'gender', 'capitalgain', 'capitalloss',\n",
       "       'hoursperweek', 'nativecountry', 'SalStat'],\n",
       "      dtype='object')"
      ]
     },
     "execution_count": 4,
     "metadata": {},
     "output_type": "execute_result"
    }
   ],
   "source": [
    "df.columns"
   ]
  },
  {
   "cell_type": "code",
   "execution_count": 5,
   "id": "edbbcbdd-7555-47b3-8105-49202df7dfce",
   "metadata": {},
   "outputs": [
    {
     "name": "stdout",
     "output_type": "stream",
     "text": [
      "cat_cols  has 5 columns\n",
      "cont_cols has 2 columns\n",
      "y_col     has 1 column\n"
     ]
    }
   ],
   "source": [
    "cat_cols  = ['JobType', 'EdType', 'maritalstatus', 'occupation', 'relationship']\n",
    "cont_cols = ['age', 'hoursperweek']\n",
    "y_col     = ['SalStat']\n",
    "\n",
    "# Run the check\n",
    "print(f'cat_cols  has {len(cat_cols)} columns')\n",
    "print(f'cont_cols has {len(cont_cols)} columns')\n",
    "print(f'y_col     has {len(y_col)} column')\n"
   ]
  },
  {
   "cell_type": "code",
   "execution_count": 6,
   "id": "240cd873-1396-4718-a7c2-cb2e74702532",
   "metadata": {},
   "outputs": [],
   "source": [
    "# Convert categorical columns to category dtype\n",
    "for col in cat_cols:\n",
    "    df[col] = df[col].astype('category')\n"
   ]
  },
  {
   "cell_type": "code",
   "execution_count": 7,
   "id": "504555ce-9c3f-496c-a738-dc855c81f158",
   "metadata": {},
   "outputs": [
    {
     "data": {
      "text/html": [
       "<div>\n",
       "<style scoped>\n",
       "    .dataframe tbody tr th:only-of-type {\n",
       "        vertical-align: middle;\n",
       "    }\n",
       "\n",
       "    .dataframe tbody tr th {\n",
       "        vertical-align: top;\n",
       "    }\n",
       "\n",
       "    .dataframe thead th {\n",
       "        text-align: right;\n",
       "    }\n",
       "</style>\n",
       "<table border=\"1\" class=\"dataframe\">\n",
       "  <thead>\n",
       "    <tr style=\"text-align: right;\">\n",
       "      <th></th>\n",
       "      <th>age</th>\n",
       "      <th>JobType</th>\n",
       "      <th>EdType</th>\n",
       "      <th>maritalstatus</th>\n",
       "      <th>occupation</th>\n",
       "      <th>relationship</th>\n",
       "      <th>race</th>\n",
       "      <th>gender</th>\n",
       "      <th>capitalgain</th>\n",
       "      <th>capitalloss</th>\n",
       "      <th>hoursperweek</th>\n",
       "      <th>nativecountry</th>\n",
       "      <th>SalStat</th>\n",
       "    </tr>\n",
       "  </thead>\n",
       "  <tbody>\n",
       "    <tr>\n",
       "      <th>0</th>\n",
       "      <td>31</td>\n",
       "      <td>Private</td>\n",
       "      <td>10th</td>\n",
       "      <td>Divorced</td>\n",
       "      <td>Craft-repair</td>\n",
       "      <td>Not-in-family</td>\n",
       "      <td>White</td>\n",
       "      <td>Male</td>\n",
       "      <td>0</td>\n",
       "      <td>0</td>\n",
       "      <td>38</td>\n",
       "      <td>United-States</td>\n",
       "      <td>less than or equal to 50,000</td>\n",
       "    </tr>\n",
       "    <tr>\n",
       "      <th>1</th>\n",
       "      <td>27</td>\n",
       "      <td>Private</td>\n",
       "      <td>Bachelors</td>\n",
       "      <td>Never-married</td>\n",
       "      <td>Tech-support</td>\n",
       "      <td>Not-in-family</td>\n",
       "      <td>White</td>\n",
       "      <td>Male</td>\n",
       "      <td>0</td>\n",
       "      <td>0</td>\n",
       "      <td>37</td>\n",
       "      <td>United-States</td>\n",
       "      <td>less than or equal to 50,000</td>\n",
       "    </tr>\n",
       "    <tr>\n",
       "      <th>2</th>\n",
       "      <td>42</td>\n",
       "      <td>Private</td>\n",
       "      <td>Bachelors</td>\n",
       "      <td>Married-civ-spouse</td>\n",
       "      <td>Exec-managerial</td>\n",
       "      <td>Husband</td>\n",
       "      <td>White</td>\n",
       "      <td>Male</td>\n",
       "      <td>7298</td>\n",
       "      <td>0</td>\n",
       "      <td>45</td>\n",
       "      <td>United-States</td>\n",
       "      <td>greater than 50,000</td>\n",
       "    </tr>\n",
       "    <tr>\n",
       "      <th>3</th>\n",
       "      <td>18</td>\n",
       "      <td>?</td>\n",
       "      <td>Some-college</td>\n",
       "      <td>Never-married</td>\n",
       "      <td>?</td>\n",
       "      <td>Own-child</td>\n",
       "      <td>White</td>\n",
       "      <td>Female</td>\n",
       "      <td>0</td>\n",
       "      <td>0</td>\n",
       "      <td>4</td>\n",
       "      <td>United-States</td>\n",
       "      <td>less than or equal to 50,000</td>\n",
       "    </tr>\n",
       "    <tr>\n",
       "      <th>4</th>\n",
       "      <td>30</td>\n",
       "      <td>Local-gov</td>\n",
       "      <td>Assoc-voc</td>\n",
       "      <td>Married-civ-spouse</td>\n",
       "      <td>Protective-serv</td>\n",
       "      <td>Husband</td>\n",
       "      <td>White</td>\n",
       "      <td>Male</td>\n",
       "      <td>0</td>\n",
       "      <td>0</td>\n",
       "      <td>40</td>\n",
       "      <td>United-States</td>\n",
       "      <td>less than or equal to 50,000</td>\n",
       "    </tr>\n",
       "  </tbody>\n",
       "</table>\n",
       "</div>"
      ],
      "text/plain": [
       "   age     JobType         EdType        maritalstatus        occupation  \\\n",
       "0   31     Private           10th             Divorced      Craft-repair   \n",
       "1   27     Private      Bachelors        Never-married      Tech-support   \n",
       "2   42     Private      Bachelors   Married-civ-spouse   Exec-managerial   \n",
       "3   18           ?   Some-college        Never-married                 ?   \n",
       "4   30   Local-gov      Assoc-voc   Married-civ-spouse   Protective-serv   \n",
       "\n",
       "     relationship    race   gender  capitalgain  capitalloss  hoursperweek  \\\n",
       "0   Not-in-family   White     Male            0            0            38   \n",
       "1   Not-in-family   White     Male            0            0            37   \n",
       "2         Husband   White     Male         7298            0            45   \n",
       "3       Own-child   White   Female            0            0             4   \n",
       "4         Husband   White     Male            0            0            40   \n",
       "\n",
       "    nativecountry                        SalStat  \n",
       "0   United-States   less than or equal to 50,000  \n",
       "1   United-States   less than or equal to 50,000  \n",
       "2   United-States            greater than 50,000  \n",
       "3   United-States   less than or equal to 50,000  \n",
       "4   United-States   less than or equal to 50,000  "
      ]
     },
     "execution_count": 7,
     "metadata": {},
     "output_type": "execute_result"
    }
   ],
   "source": [
    "# Convert categorical columns to category dtype\n",
    "for col in cat_cols:\n",
    "    df[col] = df[col].astype('category')\n",
    "\n",
    "# (Optional) Shuffle the dataset\n",
    "from sklearn.utils import shuffle\n",
    "df = shuffle(df, random_state=101)\n",
    "df.reset_index(drop=True, inplace=True)\n",
    "\n",
    "df.head()\n"
   ]
  },
  {
   "cell_type": "code",
   "execution_count": 8,
   "id": "fbff9549-1c2e-4f38-bebc-3027f6017f38",
   "metadata": {},
   "outputs": [
    {
     "name": "stdout",
     "output_type": "stream",
     "text": [
      "[9, 16, 7, 15, 6]\n",
      "[(9, 5), (16, 8), (7, 4), (15, 8), (6, 3)]\n"
     ]
    }
   ],
   "source": [
    "# 1. Number of categories for each categorical variable\n",
    "cat_szs = [df[col].nunique() for col in cat_cols]\n",
    "\n",
    "# 2. Create list of (category size, embedding size) tuples\n",
    "emb_szs = [(size, min(50, (size+1)//2)) for size in cat_szs]\n",
    "\n",
    "print(cat_szs)\n",
    "print(emb_szs)\n"
   ]
  },
  {
   "cell_type": "code",
   "execution_count": 9,
   "id": "99dfb308-89cf-4846-b5df-901aa970113c",
   "metadata": {},
   "outputs": [
    {
     "name": "stdout",
     "output_type": "stream",
     "text": [
      "[[ 4  0  0  3  1]\n",
      " [ 4  9  4 13  1]\n",
      " [ 4  9  2  4  0]\n",
      " [ 0 15  4  0  3]\n",
      " [ 2  8  2 11  0]]\n"
     ]
    }
   ],
   "source": [
    "import numpy as np\n",
    "\n",
    "cats = np.stack([df[col].cat.codes.values for col in cat_cols], axis=1).astype('int8')\n",
    "\n",
    "print(cats[:5])\n"
   ]
  },
  {
   "cell_type": "code",
   "execution_count": 10,
   "id": "f85a7c7b-72aa-42fe-85ab-4380277d65bd",
   "metadata": {},
   "outputs": [
    {
     "name": "stdout",
     "output_type": "stream",
     "text": [
      "torch.Size([31978, 5]) torch.int64\n",
      "tensor([[ 4,  0,  0,  3,  1],\n",
      "        [ 4,  9,  4, 13,  1],\n",
      "        [ 4,  9,  2,  4,  0],\n",
      "        [ 0, 15,  4,  0,  3],\n",
      "        [ 2,  8,  2, 11,  0]])\n"
     ]
    }
   ],
   "source": [
    "import torch\n",
    "\n",
    "cats = torch.tensor(cats, dtype=torch.int64)\n",
    "\n",
    "print(cats.shape, cats.dtype)\n",
    "print(cats[:5])\n"
   ]
  },
  {
   "cell_type": "code",
   "execution_count": 11,
   "id": "1cbae3aa-50ec-4ecd-9fbd-97647137bc85",
   "metadata": {},
   "outputs": [
    {
     "name": "stdout",
     "output_type": "stream",
     "text": [
      "[[31 38]\n",
      " [27 37]\n",
      " [42 45]\n",
      " [18  4]\n",
      " [30 40]]\n"
     ]
    }
   ],
   "source": [
    "conts = np.stack([df[col].values for col in cont_cols], axis=1).astype('int64')\n",
    "\n",
    "print(conts[:5])\n"
   ]
  },
  {
   "cell_type": "code",
   "execution_count": 12,
   "id": "bb443ed1-a481-49f4-b07a-e7e29c55b767",
   "metadata": {},
   "outputs": [
    {
     "name": "stdout",
     "output_type": "stream",
     "text": [
      "torch.float32\n",
      "tensor([[31., 38.],\n",
      "        [27., 37.],\n",
      "        [42., 45.],\n",
      "        [18.,  4.],\n",
      "        [30., 40.]])\n"
     ]
    }
   ],
   "source": [
    "conts = torch.tensor(conts, dtype=torch.float32)\n",
    "\n",
    "print(conts.dtype)\n",
    "print(conts[:5])\n"
   ]
  },
  {
   "cell_type": "code",
   "execution_count": 13,
   "id": "a5a2e9f2-b383-436b-af40-d7a042b6f45c",
   "metadata": {},
   "outputs": [
    {
     "name": "stdout",
     "output_type": "stream",
     "text": [
      "torch.Size([31978]) torch.int64\n",
      "tensor([1, 1, 0, 1, 1, 1, 0, 1, 1, 1])\n"
     ]
    }
   ],
   "source": [
    "y = torch.tensor(df[y_col[0]].astype('category').cat.codes.values, dtype=torch.int64)\n",
    "\n",
    "print(y.shape, y.dtype)\n",
    "print(y[:10])\n"
   ]
  },
  {
   "cell_type": "code",
   "execution_count": 14,
   "id": "e2b2f5bd-d873-47aa-877b-8b78b632fb8c",
   "metadata": {},
   "outputs": [
    {
     "name": "stdout",
     "output_type": "stream",
     "text": [
      "torch.Size([30000, 5]) torch.Size([30000, 2]) torch.Size([30000])\n",
      "torch.Size([1978, 5]) torch.Size([1978, 2]) torch.Size([1978])\n"
     ]
    }
   ],
   "source": [
    "# Suggested batch and test sizes\n",
    "b = 30000  # training size\n",
    "t = 5000   # test size\n",
    "\n",
    "# Split categorical data\n",
    "cats_train = cats[:b]\n",
    "cats_test  = cats[b:b+t]\n",
    "\n",
    "# Split continuous data\n",
    "conts_train = conts[:b]\n",
    "conts_test  = conts[b:b+t]\n",
    "\n",
    "# Split labels\n",
    "y_train = y[:b]\n",
    "y_test  = y[b:b+t]\n",
    "\n",
    "# Check shapes\n",
    "print(cats_train.shape, conts_train.shape, y_train.shape)\n",
    "print(cats_test.shape, conts_test.shape, y_test.shape)\n"
   ]
  },
  {
   "cell_type": "code",
   "execution_count": 15,
   "id": "f64629b4-d965-4c1b-bed8-1c2cd5363081",
   "metadata": {},
   "outputs": [
    {
     "data": {
      "text/plain": [
       "<torch._C.Generator at 0x2417f4d90f0>"
      ]
     },
     "execution_count": 15,
     "metadata": {},
     "output_type": "execute_result"
    }
   ],
   "source": [
    "torch.manual_seed(33)"
   ]
  },
  {
   "cell_type": "code",
   "execution_count": 17,
   "id": "b49ba450-92e5-4a37-a79a-c400076d5566",
   "metadata": {},
   "outputs": [],
   "source": [
    "import torch\n",
    "import torch.nn as nn\n",
    "\n",
    "class TabularModel(nn.Module):\n",
    "\n",
    "    def __init__(self, emb_szs, n_cont, out_sz, layers, p=0.5):\n",
    "        # Call the parent __init__\n",
    "        super().__init__()\n",
    "        \n",
    "        # Set up the embedding, dropout, and batch normalization layer attributes\n",
    "        self.embeds = nn.ModuleList([nn.Embedding(ni, nf) for ni,nf in emb_szs])\n",
    "        self.emb_drop = nn.Dropout(p)\n",
    "        self.bn_cont = nn.BatchNorm1d(n_cont)\n",
    "        \n",
    "        # Assign a variable to hold a list of layers\n",
    "        layerlist = []\n",
    "        \n",
    "        # Assign a variable to store the number of embedding and continuous layers\n",
    "        n_emb = sum((nf for ni,nf in emb_szs))\n",
    "        n_in = n_emb + n_cont\n",
    "        \n",
    "        # Iterate through the passed-in \"layers\" parameter (ie, [200,100]) to build a list of layers\n",
    "        for i in layers:\n",
    "            layerlist.append(nn.Linear(n_in,i)) \n",
    "            layerlist.append(nn.ReLU(inplace=True))\n",
    "            layerlist.append(nn.BatchNorm1d(i))\n",
    "            layerlist.append(nn.Dropout(p))\n",
    "            n_in = i\n",
    "        layerlist.append(nn.Linear(layers[-1],out_sz))\n",
    "        \n",
    "        # Convert the list of layers into an attribute\n",
    "        self.layers = nn.Sequential(*layerlist)\n",
    "    \n",
    "    def forward(self, x_cat, x_cont):\n",
    "        # Extract embedding values from the incoming categorical data\n",
    "        embeddings = []\n",
    "        for i,e in enumerate(self.embeds):\n",
    "            embeddings.append(e(x_cat[:,i]))\n",
    "        x = torch.cat(embeddings, 1)\n",
    "        # Perform an initial dropout on the embeddings\n",
    "        x = self.emb_drop(x)\n",
    "        \n",
    "        # Normalize the incoming continuous data\n",
    "        x_cont = self.bn_cont(x_cont)\n",
    "        x = torch.cat([x, x_cont], 1)\n",
    "        \n",
    "        # Set up model layers\n",
    "        x = self.layers(x)\n",
    "        return x\n"
   ]
  },
  {
   "cell_type": "code",
   "execution_count": 18,
   "id": "710a7684-f2d3-402c-8f94-8e86cab41e7f",
   "metadata": {},
   "outputs": [
    {
     "name": "stdout",
     "output_type": "stream",
     "text": [
      "TabularModel(\n",
      "  (embeds): ModuleList(\n",
      "    (0): Embedding(9, 5)\n",
      "    (1): Embedding(16, 8)\n",
      "    (2): Embedding(7, 4)\n",
      "    (3): Embedding(15, 8)\n",
      "    (4): Embedding(6, 3)\n",
      "  )\n",
      "  (emb_drop): Dropout(p=0.4, inplace=False)\n",
      "  (bn_cont): BatchNorm1d(2, eps=1e-05, momentum=0.1, affine=True, track_running_stats=True)\n",
      "  (layers): Sequential(\n",
      "    (0): Linear(in_features=30, out_features=50, bias=True)\n",
      "    (1): ReLU(inplace=True)\n",
      "    (2): BatchNorm1d(50, eps=1e-05, momentum=0.1, affine=True, track_running_stats=True)\n",
      "    (3): Dropout(p=0.4, inplace=False)\n",
      "    (4): Linear(in_features=50, out_features=2, bias=True)\n",
      "  )\n",
      ")\n"
     ]
    }
   ],
   "source": [
    "n_cont = len(cont_cols)\n",
    "out_sz = len(df[y_col[0]].unique())\n",
    "\n",
    "model = TabularModel(emb_szs, n_cont, out_sz, layers=[50], p=0.4)\n",
    "print(model)\n"
   ]
  },
  {
   "cell_type": "code",
   "execution_count": 19,
   "id": "2ff69cce-df0d-4125-9adc-3cdfa7baedad",
   "metadata": {},
   "outputs": [
    {
     "name": "stdout",
     "output_type": "stream",
     "text": [
      "CrossEntropyLoss()\n",
      "Adam (\n",
      "Parameter Group 0\n",
      "    amsgrad: False\n",
      "    betas: (0.9, 0.999)\n",
      "    capturable: False\n",
      "    decoupled_weight_decay: False\n",
      "    differentiable: False\n",
      "    eps: 1e-08\n",
      "    foreach: None\n",
      "    fused: None\n",
      "    lr: 0.001\n",
      "    maximize: False\n",
      "    weight_decay: 0\n",
      ")\n"
     ]
    }
   ],
   "source": [
    "import torch.optim as optim\n",
    "import torch.nn as nn\n",
    "\n",
    "criterion = nn.CrossEntropyLoss()\n",
    "optimizer = optim.Adam(model.parameters(), lr=0.001)\n",
    "\n",
    "print(criterion)\n",
    "print(optimizer)\n"
   ]
  },
  {
   "cell_type": "code",
   "execution_count": 22,
   "id": "69a9818f-a689-4390-8b00-b11266e6fd95",
   "metadata": {},
   "outputs": [],
   "source": [
    "import time\n",
    "start_time = time.time()\n",
    "\n",
    "epochs = 300\n",
    "losses = []\n",
    "\n",
    "for i in range(epochs):\n",
    "    i += 1\n",
    "    y_pred = model(cats_train, conts_train)\n",
    "    loss = criterion(y_pred, y_train)\n",
    "    losses.append(loss)\n",
    "    \n",
    "    optimizer.zero_grad()\n",
    "    loss.backward()\n",
    "    optimizer.step()\n"
   ]
  },
  {
   "cell_type": "code",
   "execution_count": 23,
   "id": "44436456-87a0-4325-a995-f5dda79164ef",
   "metadata": {},
   "outputs": [
    {
     "data": {
      "image/png": "[encoded data removed]",
      "text/plain": [
       "<Figure size 1000x500 with 1 Axes>"
      ]
     },
     "metadata": {},
     "output_type": "display_data"
    }
   ],
   "source": [
    "import matplotlib.pyplot as plt\n",
    "\n",
    "loss_values = [loss.item() for loss in losses]\n",
    "\n",
    "plt.figure(figsize=(10,5))\n",
    "plt.plot(range(1, len(loss_values)+1), loss_values, color='blue', lw=2)\n",
    "plt.title('Cross Entropy Loss vs Epochs', fontsize=16)\n",
    "plt.xlabel('Epoch', fontsize=14)\n",
    "plt.ylabel('Loss', fontsize=14)\n",
    "plt.grid(True)\n",
    "plt.show()\n"
   ]
  },
  {
   "cell_type": "code",
   "execution_count": 24,
   "id": "b5e8e8e9-9b80-46c2-903f-c3848a5755ad",
   "metadata": {},
   "outputs": [
    {
     "name": "stdout",
     "output_type": "stream",
     "text": [
      "CE Loss: 0.38877532\n"
     ]
    }
   ],
   "source": [
    "with torch.no_grad():\n",
    "    y_val = model(cats_test, conts_test)\n",
    "    \n",
    "    loss = criterion(y_val, y_test)\n",
    "\n",
    "print(f'CE Loss: {loss.item():.8f}')\n"
   ]
  },
  {
   "cell_type": "code",
   "execution_count": 25,
   "id": "94e48c1b-69ce-4101-9d31-6b78c0f15eb1",
   "metadata": {},
   "outputs": [
    {
     "name": "stdout",
     "output_type": "stream",
     "text": [
      "1607 out of 1978 = 81.24% correct\n"
     ]
    }
   ],
   "source": [
    "y_pred_classes = torch.argmax(y_val, dim=1)\n",
    "\n",
    "correct = 0\n",
    "\n",
    "for i in range(len(y_test)):\n",
    "    if y_pred_classes[i] == y_test[i]:\n",
    "        correct += 1\n",
    "\n",
    "accuracy = correct / len(y_test) * 100\n",
    "\n",
    "print(f'{correct} out of {len(y_test)} = {accuracy:.2f}% correct')\n"
   ]
  },
  {
   "cell_type": "code",
   "execution_count": 26,
   "id": "b3ce2b60-b8b2-4db3-82bd-011224fad4d5",
   "metadata": {},
   "outputs": [
    {
     "name": "stdin",
     "output_type": "stream",
     "text": [
      "What is the person's age? (18-90)  20\n",
      "What is the person's sex? (Male/Female)  Female\n",
      "What is the person's education level? (3-16)  15\n",
      "What is the person's marital status?  Never-married\n",
      "What is the person's workclass?  private\n",
      "What is the person's occupation?  Sales\n",
      "How many hours/week are worked? (20-90)  40\n"
     ]
    },
    {
     "name": "stdout",
     "output_type": "stream",
     "text": [
      "\n",
      "The predicted label is 1\n"
     ]
    }
   ],
   "source": [
    "def predict_new(model):\n",
    "    model.eval()\n",
    "    job_d = {'Private':0, 'Self-emp':1, 'Government':2, 'Other':3, 'Never-worked':4, 'Without-pay':5, 'Local-gov':6, 'State-gov':7, 'Federal-gov':8, 'Self-emp-inc':9, 'Self-emp-not-inc':10, '?':11, 'Child':12, 'Private-Other':13}\n",
    "    edu_d = {str(i):i-3 for i in range(3,17)}\n",
    "    marital_d = {'Divorced':0, 'Married':1, 'Married-spouse-absent':2, 'Never-married':3, 'Separated':4, 'Widowed':5}\n",
    "    occ_d = {'Sales':0, 'Exec-managerial':1, 'Tech-support':2, 'Craft-repair':3, 'Other-service':4, 'Prof-specialty':5, 'Handlers-cleaners':6, 'Machine-op-inspct':7, 'Adm-clerical':8, 'Transport-moving':9, 'Farming-fishing':10, 'Protective-serv':11, 'Priv-house-serv':12, 'Armed-Forces':13}\n",
    "    rel_d = {'Not-in-family':0, 'Husband':1, 'Wife':2, 'Own-child':3, 'Other-relative':4, 'Unmarried':5}\n",
    "    age = float(input(\"What is the person's age? (18-90) \"))\n",
    "    sex = input(\"What is the person's sex? (Male/Female) \").capitalize()\n",
    "    edu = int(input(\"What is the person's education level? (3-16) \"))\n",
    "    mar = input(\"What is the person's marital status? \").capitalize()\n",
    "    job = input(\"What is the person's workclass? \").capitalize()\n",
    "    occ = input(\"What is the person's occupation? \").capitalize()\n",
    "    hours = float(input(\"How many hours/week are worked? (20-90) \"))\n",
    "    cat_input = [\n",
    "        job_d.get(job,0),\n",
    "        edu_d.get(str(edu),0),\n",
    "        marital_d.get(mar,0),\n",
    "        occ_d.get(occ,0),\n",
    "        0\n",
    "    ]\n",
    "    cats_tensor = torch.tensor([cat_input], dtype=torch.int64)\n",
    "    cont_tensor = torch.tensor([[age, hours]], dtype=torch.float32)\n",
    "    with torch.no_grad():\n",
    "        pred = model(cats_tensor, cont_tensor)\n",
    "        label = torch.argmax(pred, dim=1).item()\n",
    "    print(f\"\\nThe predicted label is {label}\")\n",
    "\n",
    "predict_new(model)\n"
   ]
  },
  {
   "cell_type": "code",
   "execution_count": null,
   "id": "f74df18e-6889-4434-91e8-995c1683f430",
   "metadata": {},
   "outputs": [],
   "source": []
  }
 ],
 "metadata": {
  "kernelspec": {
   "display_name": "Python 3 (ipykernel)",
   "language": "python",
   "name": "python3"
  },
  "language_info": {
   "codemirror_mode": {
    "name": "ipython",
    "version": 3
   },
   "file_extension": ".py",
   "mimetype": "text/x-python",
   "name": "python",
   "nbconvert_exporter": "python",
   "pygments_lexer": "ipython3",
   "version": "3.11.3"
  }
 },
 "nbformat": 4,
 "nbformat_minor": 5
}
